{
 "cells": [
  {
   "cell_type": "code",
   "execution_count": 24,
   "metadata": {},
   "outputs": [],
   "source": [
    "# importing libraries\n",
    "\n",
    "from openai import OpenAI\n",
    "from langchain.llms import OpenAI\n",
    "\n",
    "# this is an abstraction for ChatGPT API\n",
    "from langchain.chat_models import ChatOpenAI\n",
    "\n",
    "from langchain import LLMChain\n",
    "from pprint import pprint as pp"
   ]
  },
  {
   "cell_type": "markdown",
   "metadata": {},
   "source": [
    "### Model"
   ]
  },
  {
   "cell_type": "code",
   "execution_count": 17,
   "metadata": {},
   "outputs": [
    {
     "name": "stdout",
     "output_type": "stream",
     "text": [
      "(' in 2020?\\n'\n",
      " '\\n'\n",
      " '1. Python\\n'\n",
      " '2. JavaScript\\n'\n",
      " '3. Java\\n'\n",
      " '4. C/C++\\n'\n",
      " '5. Go\\n'\n",
      " '6. Swift\\n'\n",
      " '7. Rust\\n'\n",
      " '8. TypeScript\\n'\n",
      " '9. Kotlin\\n'\n",
      " '10. R')\n"
     ]
    }
   ],
   "source": [
    "# There are two types of models, LLMs and Chat\n",
    "# Chat Model OpenAI\n",
    "llm_model = \"text-davinci-003\"\n",
    "chat_llm_model = \"gpt-3.5-turbo\"\n",
    "\n",
    "chat = ChatOpenAI(\n",
    "    temperature=0.0,\n",
    "    model=chat_llm_model,\n",
    ")\n",
    "\n",
    "# LLM OpenAI\n",
    "llm = OpenAI(\n",
    "    temperature=0.0,\n",
    "    model=llm_model,\n",
    ")\n",
    "\n",
    "# chat\n",
    "\n",
    "# chat with the model\n",
    "pp(llm(\"What are the best programming languages to learn\"))"
   ]
  },
  {
   "cell_type": "markdown",
   "metadata": {},
   "source": [
    "### Chat Prompt Template"
   ]
  },
  {
   "cell_type": "code",
   "execution_count": 18,
   "metadata": {},
   "outputs": [
    {
     "data": {
      "text/plain": [
       "PromptTemplate(input_variables=['topic'], template='Tell me a joke on the topic: {topic}')"
      ]
     },
     "execution_count": 18,
     "metadata": {},
     "output_type": "execute_result"
    }
   ],
   "source": [
    "from langchain.prompts import ChatPromptTemplate\n",
    "\n",
    "template = \"Tell me a joke on the topic: {topic}\"\n",
    "\n",
    "chat_prompt = ChatPromptTemplate.from_template(template)\n",
    "\n",
    "chat_prompt.messages[0].prompt"
   ]
  },
  {
   "cell_type": "code",
   "execution_count": 19,
   "metadata": {},
   "outputs": [
    {
     "name": "stdout",
     "output_type": "stream",
     "text": [
      "[HumanMessage(content='Tell me a joke on the topic: programming')]\n",
      "\n",
      "Response:\n",
      " Why do programmers prefer dark mode?\n",
      "\n",
      "Because light attracts bugs!\n"
     ]
    }
   ],
   "source": [
    "custom_prompt = chat_prompt.format_messages(\n",
    "    topic=\"programming\",\n",
    "\n",
    ")\n",
    "print(custom_prompt,end=\"\\n\")\n",
    "\n",
    "response = chat(custom_prompt)\n",
    "print(\"\\nResponse:\\n\",response.content)"
   ]
  },
  {
   "cell_type": "markdown",
   "metadata": {},
   "source": [
    "### Creating Prompts"
   ]
  },
  {
   "cell_type": "code",
   "execution_count": 26,
   "metadata": {},
   "outputs": [
    {
     "name": "stdout",
     "output_type": "stream",
     "text": [
      "('\\n'\n",
      " '    The following is a conversation with an AI assistant. The assistant '\n",
      " 'answers the questions with a sarcastic response.\\n'\n",
      " '\\n'\n",
      " '    Question: What is the meaning of life?\\n'\n",
      " '    Answer:   \\n')\n"
     ]
    }
   ],
   "source": [
    "from langchain.prompts import PromptTemplate\n",
    "\n",
    "# desiging our prompt template\n",
    "template = \"\"\"\n",
    "    The following is a conversation with an AI assistant. The assistant answers the questions with a sarcastic response.\n",
    "\n",
    "    Question: {question}\n",
    "    Answer:   \n",
    "\"\"\"\n",
    "\n",
    "prompt_template = PromptTemplate(\n",
    "    template=template,\n",
    "    input_variables=[\"question\"],\n",
    ")\n",
    "\n",
    "question = \"What is the meaning of life?\"\n",
    "\n",
    "pp(prompt_template.format(question=question))"
   ]
  },
  {
   "cell_type": "markdown",
   "metadata": {},
   "source": [
    "### LLMChains"
   ]
  },
  {
   "cell_type": "code",
   "execution_count": 28,
   "metadata": {},
   "outputs": [
    {
     "name": "stdout",
     "output_type": "stream",
     "text": [
      "'    42. What else did you expect?'\n"
     ]
    }
   ],
   "source": [
    "# Importing the LLMChain class from langchain.chains module\n",
    "from langchain.chains import LLMChain\n",
    "\n",
    "# Creating an instance of LLMChain class with the llm and prompt_template objects\n",
    "llm_chain = LLMChain(\n",
    "    llm=llm,\n",
    "    prompt=prompt_template,\n",
    ")\n",
    "\n",
    "# Running the LLMChain with the given question and printing the output\n",
    "pp(llm_chain.run(question))"
   ]
  },
  {
   "cell_type": "code",
   "execution_count": null,
   "metadata": {},
   "outputs": [],
   "source": []
  }
 ],
 "metadata": {
  "kernelspec": {
   "display_name": "myenv",
   "language": "python",
   "name": "python3"
  },
  "language_info": {
   "codemirror_mode": {
    "name": "ipython",
    "version": 3
   },
   "file_extension": ".py",
   "mimetype": "text/x-python",
   "name": "python",
   "nbconvert_exporter": "python",
   "pygments_lexer": "ipython3",
   "version": "3.10.11"
  }
 },
 "nbformat": 4,
 "nbformat_minor": 2
}
